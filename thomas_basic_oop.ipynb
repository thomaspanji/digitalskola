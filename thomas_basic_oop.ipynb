{
  "nbformat": 4,
  "nbformat_minor": 0,
  "metadata": {
    "colab": {
      "name": "thomas_basic_oop.ipynb",
      "provenance": [],
      "collapsed_sections": []
    },
    "kernelspec": {
      "name": "python3",
      "display_name": "Python 3"
    },
    "language_info": {
      "name": "python"
    }
  },
  "cells": [
    {
      "cell_type": "markdown",
      "metadata": {
        "id": "I6NXx9ssiqiz"
      },
      "source": [
        "# ***Study Case***"
      ]
    },
    {
      "cell_type": "markdown",
      "metadata": {
        "id": "KX-LGOOgistl"
      },
      "source": [
        "1.   Buat class **Hewan** yang memiliki *class attributes* **nama_latin** dan *instance  attributes* **nama** dan **umur**\n",
        "2.   Di *class* **Hewan**, memiliki *instance method* **bangun**, & *class method*  **change_nama_latin**\n",
        "3.   Buat *child class* **Kucing** yang memiliki *value class attributes* yang berbeda dengan *parent class*, menggunakan *class method* **change_nama_latin**\n",
        "4.   Di *child class*, *override method* **bangun**\n",
        "5.   Di *child class*, buat *method* **lari** yang memiliki  parameter **kecepatan**. Jika *value* dari parameter kecepatan  lebih dari 10, maka *print* **cepat sekali** selain itu print **lambat**\n",
        "\n"
      ]
    },
    {
      "cell_type": "markdown",
      "metadata": {
        "id": "qeyFW-qo9gAs"
      },
      "source": [
        "# ***Answer***"
      ]
    },
    {
      "cell_type": "code",
      "metadata": {
        "id": "m-3FpvOH9kbb"
      },
      "source": [
        "# Create class Hewan\n",
        "class Hewan:\n",
        "\n",
        "    nama_latin = 'animalia'\n",
        "\n",
        "    def __init__(self, nama, umur):\n",
        "        self.nama = nama\n",
        "        self.umur = umur\n",
        "\n",
        "    def bangun(self):\n",
        "        print(f'{self.nama} masih ngantuk padahal udah umur {self.umur} tahun.')\n",
        "\n",
        "    @classmethod\n",
        "    def change_nama_latin(cls, nama_latin):\n",
        "        cls.nama_latin = nama_latin\n",
        "\n",
        "\n",
        "class Kucing(Hewan):\n",
        "\n",
        "    def __init__(self, nama, umur):\n",
        "        Hewan.__init__(self, nama, umur)\n",
        "        Kucing.change_nama_latin('felix')  # Changing class attribute\n",
        "\n",
        "    def bangun(self):  # Override method from parent class\n",
        "        print(f'Seger banget nich si {self.nama}.')\n",
        "\n",
        "    def lari(self, kecepatan):\n",
        "        if kecepatan > 10:\n",
        "            print('cepat sekali')\n",
        "        else:\n",
        "            print('lambat')\n"
      ],
      "execution_count": null,
      "outputs": []
    },
    {
      "cell_type": "code",
      "metadata": {
        "colab": {
          "base_uri": "https://localhost:8080/"
        },
        "id": "TUWIs8UUEOiA",
        "outputId": "29bc64a9-16a2-4b40-ef17-58465f103745"
      },
      "source": [
        "# Instantiate object from class Hewan\n",
        "a = Hewan('kurkur', 5)\n",
        "\n",
        "# Instantiate object from class Kucing\n",
        "b = Kucing('oyen',10)\n",
        "\n",
        "# Check class attribute\n",
        "print('Hewan class attribute : ', a.nama_latin)\n",
        "\n",
        "# Check whether nama_latin has changed for class Kucing\n",
        "print('Kucing class attribute : ', b.nama_latin)\n",
        "\n",
        "# Check whether nama_latin remains the same for class Hewan\n",
        "print('Hewan class attribute : ', a.nama_latin)\n",
        "\n",
        "# Check instance method .bangun() of object Hewan\n",
        "a.bangun()\n",
        "\n",
        "# Check method overriding on .bangun() of class Kucing\n",
        "b.bangun()\n",
        "\n",
        "# Check response of method .lari() above 10\n",
        "b.lari(100)\n",
        "\n",
        "# Check response of method .lari() under 10\n",
        "b.lari(6)"
      ],
      "execution_count": null,
      "outputs": [
        {
          "output_type": "stream",
          "name": "stdout",
          "text": [
            "Hewan class attribute :  animalia\n",
            "Kucing class attribute :  felix\n",
            "Hewan class attribute :  animalia\n",
            "kurkur masih ngantuk padahal udah umur 5 tahun.\n",
            "Seger banget nich si oyen.\n",
            "cepat sekali\n",
            "lambat\n"
          ]
        }
      ]
    }
  ]
}